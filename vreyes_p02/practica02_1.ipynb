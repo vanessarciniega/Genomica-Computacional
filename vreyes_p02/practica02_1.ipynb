{
 "cells": [
  {
   "cell_type": "markdown",
   "metadata": {},
   "source": [
    "## Práctica 02 - Herramientas bioinformáticas (Python)"
   ]
  },
  {
   "cell_type": "markdown",
   "metadata": {},
   "source": [
    "### Calculadora de descuento"
   ]
  },
  {
   "cell_type": "code",
   "execution_count": 1,
   "metadata": {},
   "outputs": [
    {
     "name": "stdout",
     "output_type": "stream",
     "text": [
      "Ingrese el monto de la compra: 200\n",
      "El monto a pagar con descuento es:  180.0\n"
     ]
    }
   ],
   "source": [
    "compra = float(input(\"Ingrese el monto de la compra: \"))\n",
    "if compra > 100:\n",
    "    monto_con_descuento = compra * 0.9\n",
    "    print(\"El monto a pagar con descuento es: \", monto_con_descuento)\n",
    "else:\n",
    "    print(\"El producto no tiene descuento\")"
   ]
  },
  {
   "cell_type": "markdown",
   "metadata": {},
   "source": [
    "### Área de un triángulo"
   ]
  },
  {
   "cell_type": "code",
   "execution_count": 2,
   "metadata": {},
   "outputs": [
    {
     "name": "stdout",
     "output_type": "stream",
     "text": [
      "Calcular el área de un triángulo\n",
      "Ingrese el valor de la base del triángulo: 5\n",
      "Ingrese el valor de la altura del triángulo: 8\n",
      "El área del triángulo es: 20.00\n"
     ]
    }
   ],
   "source": [
    "print(\"Calcular el área de un triángulo\")\n",
    "b = float(input(\"Ingrese el valor de la base del triángulo: \"))\n",
    "h = float(input(\"Ingrese el valor de la altura del triángulo: \"))\n",
    "area = (b*h)/2\n",
    "print(\"El área del triángulo es:\", \"{:.2f}\".format(area))"
   ]
  },
  {
   "cell_type": "markdown",
   "metadata": {},
   "source": [
    "### Calculadora de IMC"
   ]
  },
  {
   "cell_type": "code",
   "execution_count": 3,
   "metadata": {},
   "outputs": [
    {
     "name": "stdout",
     "output_type": "stream",
     "text": [
      "Calculadora del IMC\n",
      "Ingrese el valor del peso en kg: 50\n",
      "Ingrese el valor de la altura en metros: 1.62\n",
      "El IMC es : 19.05\n"
     ]
    }
   ],
   "source": [
    "print(\"Calculadora del IMC\")\n",
    "kg = float(input(\"Ingrese el valor del peso en kg: \"))\n",
    "m = float(input(\"Ingrese el valor de la altura en metros: \"))\n",
    "imc = kg/(m**2)\n",
    "print(\"El IMC es :\", \"{:.2f}\".format(imc))"
   ]
  }
 ],
 "metadata": {
  "kernelspec": {
   "display_name": "Python 3",
   "language": "python",
   "name": "python3"
  },
  "language_info": {
   "codemirror_mode": {
    "name": "ipython",
    "version": 3
   },
   "file_extension": ".py",
   "mimetype": "text/x-python",
   "name": "python",
   "nbconvert_exporter": "python",
   "pygments_lexer": "ipython3",
   "version": "3.8.2"
  }
 },
 "nbformat": 4,
 "nbformat_minor": 4
}
